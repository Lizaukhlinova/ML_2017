{
 "cells": [
  {
   "cell_type": "markdown",
   "metadata": {},
   "source": [
    "## 1.1 Ответы в листьях регрессионного дерева\n",
    "\n",
    "Рассмотрим матожидание ошибки по MSE в стратегии ответа таргетом для случайного объекта из листа. Обозначим за $\\xi_i$ - таргет случайного объекта из листа. Т.к. все исходы равновероятны, $P(\\xi_j = x_i) = \\frac{1}{n}$\n",
    "\n",
    "$E_1 = \\sum_{i = 1}^n \\sum_{j = 1}^n (\\xi_j- y_j)^2 \\cdot P(\\xi_j = x_i) = \\sum_{i = 1}^n \\sum_{j = 1}^n (\\xi_j^2 \\cdot P(\\xi_j = x_i) - 2\\xi_jy_j \\cdot P(\\xi_j = x_i) + y_j^2 \\cdot \\cdot P(\\xi_j = x_i)) = \\sum_{i = 1}^n (\\sum_{j = 1}^n \\frac{x_i^2}{n} - \\sum_{i = 1}^n \\frac{2 x_iy_j}{n} + y_j^2)$\n",
    "\n",
    "Если же брать среднее значение таргета на объектах обучающей выборки, получим:\n",
    "\n",
    "$E_2 = \\sum_{i = 1}^n(\\frac{\\sum_{j = 1}^nx_j}{n} - y_i)^2 = \\sum_{i = 1}^n((\\frac{\\sum_{j = 1}^nx_j}{n})^2 - 2 \n",
    "\\cdot \\sum_{j = 1}^n \\frac{x_j y_i}{n} + y_i^2)  $\n",
    "\n",
    "$E_1 > E_2, т.к. \\sum_{j = 1}^n \\frac{x_i^2}{n} > (\\sum_{j = 1}^n \\frac{x_j}{n})^2$\n",
    "\n",
    "Значит, среднее приводит к меньшему матожиданию."
   ]
  },
  {
   "cell_type": "markdown",
   "metadata": {},
   "source": [
    "## 1.3 Unsupervised decision tree \n",
    "\n",
    "Плотность многомерного нормального распределения:\n",
    "\n",
    "### $f(x) = \\frac{1}{(2\\pi)^{0.5n}|\\Sigma|^{0.5}}e^{-0.5(x-\\mu)^T\\Sigma^{-1}(x-\\mu)}$\n",
    "\n",
    "По определению энтропии:\n",
    "\n",
    "### $H(x) = -\\int_{-\\infty}^{\\infty} f(x) ln(f(x))dx = -\\int_{-\\infty}^{\\infty} f(x) (-\\frac{1}{2}ln((2\\pi)^n|\\Sigma|) - \\frac{1}{2}(x-\\mu)^T\\Sigma^{-1}(x-\\mu)) dx = \\frac{1}{2}ln((2\\pi)^n|\\Sigma|) + \\frac{1}{2} \\int_{-\\infty}^{\\infty} f(x) (x-\\mu)^T\\Sigma^{-1}(x-\\mu) dx $\n",
    "\n",
    "Рассмотрим второй член отдельно:\n",
    "\n",
    "### $\\frac{1}{2} \\int_{-\\infty}^{\\infty} f(x) (x-\\mu)^T\\Sigma^{-1}(x-\\mu) dx = \\frac{1}{2}tr(\\Sigma\\Sigma^{-1} = \\frac{1}{2}n)$\n",
    "\n",
    "Тогда: \n",
    "\n",
    "### $H(x) = \\frac{1}{2}(ln((2\\pi)^n|\\Sigma|) + n) = \\frac{1}{2}(ln((2\\pi e)^n|\\Sigma|)$"
   ]
  }
 ],
 "metadata": {
  "anaconda-cloud": {},
  "kernelspec": {
   "display_name": "Python [conda root]",
   "language": "python",
   "name": "conda-root-py"
  },
  "language_info": {
   "codemirror_mode": {
    "name": "ipython",
    "version": 3
   },
   "file_extension": ".py",
   "mimetype": "text/x-python",
   "name": "python",
   "nbconvert_exporter": "python",
   "pygments_lexer": "ipython3",
   "version": "3.5.2"
  }
 },
 "nbformat": 4,
 "nbformat_minor": 1
}
