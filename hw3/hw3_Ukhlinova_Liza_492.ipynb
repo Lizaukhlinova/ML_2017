{
 "cells": [
  {
   "cell_type": "markdown",
   "metadata": {},
   "source": [
    "# Demand prediction baseline solution"
   ]
  },
  {
   "cell_type": "markdown",
   "metadata": {},
   "source": [
    "Ukhlinova Liza 492"
   ]
  },
  {
   "cell_type": "markdown",
   "metadata": {},
   "source": [
    "### Отчет:\n",
    "\n",
    "(a) Задача состояла в прогнозировании спроса товаров на первые три недели 2015 года по данным за 2012-2014 года\n",
    "\n",
    "(b) Итоговое решение: исходный датасет преобразовывался с учетом сдвига признаков. Так как в строке напротив y (который был использован как таргет) стояли признаки, которые соответсвовали времени \"week - shift\", я переставила признаки на строки, с таким же item_id и соответсвующей неделей. В итоге у меня получились строки с ['y', 'year', 'week', 'item_id', 'f1'...'f60'], где признаки соответсвуют этой неделе и году. В итоге исходная тренировочная выборка сильно уменьшилась в размерах. Аналогичное преобразование я сделала с тестовой выборкой, но там пришлось разделить данные на 2 датасета - строки, для которых есть признаки с соответствующей датой, и строки без правильных признаков. В качестве модели я использовала XGBRegressor. Первую часть я предсказывала по модели, обученной на преобразованном train, а вторую часть - на исходном датасете. В конце решения сшивались в одно, большинство из них были обчуены на корректной выборке. \n",
    "\n",
    "(c) Сначала я пыталась просто поменять некоторые параметры в коде GradientBoostingRegressor - какую часть выборки использовать, n_estimators, высоту дерева и т.д. С таким кодом удалось достичь SMAPE около 50. Затем я решила брать не все строки - брала только каждую вторую, затем каждую пятую - такая стратегия привела к 36 очкам. Но с увеличением прореженность строк, мой score падал. Кодирование item_id также не дало хороших результатов.  Загрузив признаки в excel стало заметно, что они сильно скореллированы и скорее всего хорошо бы большую часть из них убрать. Я пробовала метод corr() и выбирала 5-10 наименее скореллированных признаков. Но это не помогло. В ход пошли методы SelectKBest, RFE - recursive feature elimination и оценка feature_importance для отбора фич. Но результат получался всегда хуже тупого прореживания строк. Было замечено, что вторая половина столбцов точно такая же, как первая, поэтому я обрезала датасет и попробовала запустить XGBoost на нем. Поварьировав параметры удалось дойти до score 25. Когда я поняла, что shift не просто так дан в таблице, я постепенно пришла к итоговому решению.\n",
    "\n",
    "(e) Для оценки качества я написала простую функцию SMAPE и проверяла результаты на кросс валидации, обучаясь на 80% train и проверяю на остальном. Результат был очень близок к тому, что выдавал kaggle. Также в самом начале испольщовала mean_squared_error, но результаты не очень соответствовали итогам на kaggle. Минимизация приводила к самому большому SMAPE."
   ]
  },
  {
   "cell_type": "markdown",
   "metadata": {},
   "source": [
    "Дополнительные вопросы:\n",
    "    \n",
    "1. Для sample_submission могли взять среднее значение y из тестовой выборки (или из тренировочной) и продублировать его 2016 раз. "
   ]
  },
  {
   "cell_type": "code",
   "execution_count": 1,
   "metadata": {
    "collapsed": false
   },
   "outputs": [],
   "source": [
    "import pandas as pd\n",
    "import numpy as np\n",
    "\n",
    "train = pd.read_csv(\"train.tsv\")\n",
    "test = pd.read_csv(\"test.tsv\")\n",
    "sample_submission = pd.read_csv(\"sample_submission.tsv\")"
   ]
  },
  {
   "cell_type": "code",
   "execution_count": 3,
   "metadata": {
    "collapsed": true
   },
   "outputs": [],
   "source": [
    "def smape(pred, y):\n",
    "        return float(200) / len(y) * sum(abs(pred - y) / (abs(y) + abs(pred)))"
   ]
  },
  {
   "cell_type": "code",
   "execution_count": 185,
   "metadata": {
    "collapsed": false
   },
   "outputs": [],
   "source": [
    "frac = 1.0\n",
    "train = train.sample(frac=frac, random_state=81)"
   ]
  },
  {
   "cell_type": "markdown",
   "metadata": {},
   "source": [
    "### Закодируем item_id"
   ]
  },
  {
   "cell_type": "code",
   "execution_count": 186,
   "metadata": {
    "collapsed": false,
    "scrolled": false
   },
   "outputs": [
    {
     "data": {
      "text/html": [
       "<div>\n",
       "<table border=\"1\" class=\"dataframe\">\n",
       "  <thead>\n",
       "    <tr style=\"text-align: right;\">\n",
       "      <th></th>\n",
       "      <th>Num</th>\n",
       "      <th>y</th>\n",
       "      <th>year</th>\n",
       "      <th>week</th>\n",
       "      <th>shift</th>\n",
       "      <th>item_id</th>\n",
       "      <th>f1</th>\n",
       "      <th>f2</th>\n",
       "      <th>f3</th>\n",
       "      <th>f4</th>\n",
       "      <th>...</th>\n",
       "      <th>f51</th>\n",
       "      <th>f52</th>\n",
       "      <th>f53</th>\n",
       "      <th>f54</th>\n",
       "      <th>f55</th>\n",
       "      <th>f56</th>\n",
       "      <th>f57</th>\n",
       "      <th>f58</th>\n",
       "      <th>f59</th>\n",
       "      <th>f60</th>\n",
       "    </tr>\n",
       "  </thead>\n",
       "  <tbody>\n",
       "    <tr>\n",
       "      <th>31868</th>\n",
       "      <td>157312</td>\n",
       "      <td>578661</td>\n",
       "      <td>2013</td>\n",
       "      <td>47</td>\n",
       "      <td>2</td>\n",
       "      <td>217</td>\n",
       "      <td>325401.0</td>\n",
       "      <td>462269.0</td>\n",
       "      <td>423886.0</td>\n",
       "      <td>303062.0</td>\n",
       "      <td>...</td>\n",
       "      <td>322328.0</td>\n",
       "      <td>380034.0</td>\n",
       "      <td>417557.0</td>\n",
       "      <td>441174.0</td>\n",
       "      <td>364465.0</td>\n",
       "      <td>339045.0</td>\n",
       "      <td>383666.0</td>\n",
       "      <td>368462.0</td>\n",
       "      <td>544448.0</td>\n",
       "      <td>192131.0</td>\n",
       "    </tr>\n",
       "    <tr>\n",
       "      <th>70199</th>\n",
       "      <td>343901</td>\n",
       "      <td>1027927</td>\n",
       "      <td>2014</td>\n",
       "      <td>52</td>\n",
       "      <td>2</td>\n",
       "      <td>72</td>\n",
       "      <td>593858.0</td>\n",
       "      <td>651118.0</td>\n",
       "      <td>625255.0</td>\n",
       "      <td>552061.0</td>\n",
       "      <td>...</td>\n",
       "      <td>511137.0</td>\n",
       "      <td>505528.0</td>\n",
       "      <td>517679.0</td>\n",
       "      <td>616331.0</td>\n",
       "      <td>384994.0</td>\n",
       "      <td>499037.0</td>\n",
       "      <td>471680.0</td>\n",
       "      <td>515997.0</td>\n",
       "      <td>459638.0</td>\n",
       "      <td>460340.0</td>\n",
       "    </tr>\n",
       "    <tr>\n",
       "      <th>5686</th>\n",
       "      <td>27784</td>\n",
       "      <td>958861</td>\n",
       "      <td>2013</td>\n",
       "      <td>8</td>\n",
       "      <td>1</td>\n",
       "      <td>36</td>\n",
       "      <td>1136500.0</td>\n",
       "      <td>1099795.0</td>\n",
       "      <td>817529.0</td>\n",
       "      <td>814748.0</td>\n",
       "      <td>...</td>\n",
       "      <td>930002.0</td>\n",
       "      <td>1072060.0</td>\n",
       "      <td>1538955.0</td>\n",
       "      <td>390422.0</td>\n",
       "      <td>315140.0</td>\n",
       "      <td>1107287.0</td>\n",
       "      <td>871260.0</td>\n",
       "      <td>1120653.0</td>\n",
       "      <td>552481.0</td>\n",
       "      <td>545769.0</td>\n",
       "    </tr>\n",
       "    <tr>\n",
       "      <th>5684</th>\n",
       "      <td>27782</td>\n",
       "      <td>71500</td>\n",
       "      <td>2013</td>\n",
       "      <td>8</td>\n",
       "      <td>1</td>\n",
       "      <td>34</td>\n",
       "      <td>82340.0</td>\n",
       "      <td>121672.0</td>\n",
       "      <td>59706.0</td>\n",
       "      <td>75390.0</td>\n",
       "      <td>...</td>\n",
       "      <td>42320.0</td>\n",
       "      <td>56900.0</td>\n",
       "      <td>194110.0</td>\n",
       "      <td>24460.0</td>\n",
       "      <td>29700.0</td>\n",
       "      <td>41530.0</td>\n",
       "      <td>43380.0</td>\n",
       "      <td>145250.0</td>\n",
       "      <td>29090.0</td>\n",
       "      <td>36640.0</td>\n",
       "    </tr>\n",
       "    <tr>\n",
       "      <th>34864</th>\n",
       "      <td>170980</td>\n",
       "      <td>9595</td>\n",
       "      <td>2013</td>\n",
       "      <td>52</td>\n",
       "      <td>3</td>\n",
       "      <td>124</td>\n",
       "      <td>4510.0</td>\n",
       "      <td>4530.0</td>\n",
       "      <td>5460.0</td>\n",
       "      <td>4542.0</td>\n",
       "      <td>...</td>\n",
       "      <td>5690.0</td>\n",
       "      <td>3850.0</td>\n",
       "      <td>5274.0</td>\n",
       "      <td>5749.0</td>\n",
       "      <td>5020.0</td>\n",
       "      <td>2525.0</td>\n",
       "      <td>3820.0</td>\n",
       "      <td>3990.0</td>\n",
       "      <td>5130.0</td>\n",
       "      <td>3420.0</td>\n",
       "    </tr>\n",
       "  </tbody>\n",
       "</table>\n",
       "<p>5 rows × 66 columns</p>\n",
       "</div>"
      ],
      "text/plain": [
       "          Num        y  year  week  shift  item_id         f1         f2  \\\n",
       "31868  157312   578661  2013    47      2      217   325401.0   462269.0   \n",
       "70199  343901  1027927  2014    52      2       72   593858.0   651118.0   \n",
       "5686    27784   958861  2013     8      1       36  1136500.0  1099795.0   \n",
       "5684    27782    71500  2013     8      1       34    82340.0   121672.0   \n",
       "34864  170980     9595  2013    52      3      124     4510.0     4530.0   \n",
       "\n",
       "             f3        f4    ...          f51        f52        f53       f54  \\\n",
       "31868  423886.0  303062.0    ...     322328.0   380034.0   417557.0  441174.0   \n",
       "70199  625255.0  552061.0    ...     511137.0   505528.0   517679.0  616331.0   \n",
       "5686   817529.0  814748.0    ...     930002.0  1072060.0  1538955.0  390422.0   \n",
       "5684    59706.0   75390.0    ...      42320.0    56900.0   194110.0   24460.0   \n",
       "34864    5460.0    4542.0    ...       5690.0     3850.0     5274.0    5749.0   \n",
       "\n",
       "            f55        f56       f57        f58       f59       f60  \n",
       "31868  364465.0   339045.0  383666.0   368462.0  544448.0  192131.0  \n",
       "70199  384994.0   499037.0  471680.0   515997.0  459638.0  460340.0  \n",
       "5686   315140.0  1107287.0  871260.0  1120653.0  552481.0  545769.0  \n",
       "5684    29700.0    41530.0   43380.0   145250.0   29090.0   36640.0  \n",
       "34864    5020.0     2525.0    3820.0     3990.0    5130.0    3420.0  \n",
       "\n",
       "[5 rows x 66 columns]"
      ]
     },
     "execution_count": 186,
     "metadata": {},
     "output_type": "execute_result"
    }
   ],
   "source": [
    "from sklearn.preprocessing import LabelEncoder\n",
    "le = LabelEncoder()\n",
    "le.fit(train.item_id)\n",
    "train['item_id'] = le.transform(train.item_id)\n",
    "train.head()"
   ]
  },
  {
   "cell_type": "code",
   "execution_count": 187,
   "metadata": {
    "collapsed": true
   },
   "outputs": [],
   "source": [
    "y = train['y']\n",
    "X = train.drop(['Num','y'], axis=1)"
   ]
  },
  {
   "cell_type": "markdown",
   "metadata": {},
   "source": [
    "### Попробуем отобрать признаки, использую RFE"
   ]
  },
  {
   "cell_type": "code",
   "execution_count": 188,
   "metadata": {
    "collapsed": false
   },
   "outputs": [
    {
     "name": "stdout",
     "output_type": "stream",
     "text": [
      "CPU times: user 12 µs, sys: 11 µs, total: 23 µs\n",
      "Wall time: 26 µs\n"
     ]
    }
   ],
   "source": [
    "%%time\n",
    "from sklearn.feature_selection import RFE\n",
    "\n",
    "rfe = RFE(model, 5) \n",
    "selector = rfe.fit(X,y)\n",
    "selector.ranking_"
   ]
  },
  {
   "cell_type": "code",
   "execution_count": 189,
   "metadata": {
    "collapsed": false
   },
   "outputs": [],
   "source": [
    "for i in range(len(selector.ranking_)):\n",
    "    if (selector.ranking_[i] == 1):\n",
    "        print(i)\n",
    "print(selector.ranking_)"
   ]
  },
  {
   "cell_type": "code",
   "execution_count": 190,
   "metadata": {
    "collapsed": false
   },
   "outputs": [
    {
     "data": {
      "text/plain": [
       "(72457, 10)"
      ]
     },
     "execution_count": 190,
     "metadata": {},
     "output_type": "execute_result"
    }
   ],
   "source": [
    "X_RFE_10 = X[['year','f4','f11','f23','f27', 'f28','f29','f30','f39', 'f56']]\n",
    "test_RFE_10 = test[['year','f4','f11','f23','f27', 'f28','f29','f30','f39', 'f56']]\n",
    "X_RFE_10.shape"
   ]
  },
  {
   "cell_type": "code",
   "execution_count": 191,
   "metadata": {
    "collapsed": false
   },
   "outputs": [
    {
     "data": {
      "text/plain": [
       "(72457, 5)"
      ]
     },
     "execution_count": 191,
     "metadata": {},
     "output_type": "execute_result"
    }
   ],
   "source": [
    "X_RFE_5 = X[['year','f11','f23','f28','f30']]\n",
    "test_RFE_5 = test[['year','f11','f23','f28','f30']]\n",
    "X_RFE_5.shape"
   ]
  },
  {
   "cell_type": "code",
   "execution_count": 205,
   "metadata": {
    "collapsed": false
   },
   "outputs": [
    {
     "name": "stdout",
     "output_type": "stream",
     "text": [
      "2016\n",
      "2016\n",
      "CPU times: user 55.3 s, sys: 771 ms, total: 56.1 s\n",
      "Wall time: 57.6 s\n"
     ]
    }
   ],
   "source": [
    "%%time\n",
    "from sklearn.ensemble import GradientBoostingRegressor\n",
    "\n",
    "model = GradientBoostingRegressor(n_estimators=500, max_depth=5, random_state=81)\n",
    "model.fit(X_RFE_10, y)\n",
    "\n",
    "preds = model.predict(test_RFE_10)\n",
    "\n",
    "print (len(preds))\n",
    "print (len(sample_submission))"
   ]
  },
  {
   "cell_type": "markdown",
   "metadata": {},
   "source": [
    "Не очень помогло, SMAPE был порядка 40"
   ]
  },
  {
   "cell_type": "markdown",
   "metadata": {},
   "source": [
    "### Теперь будем брать не все строчки для обучения"
   ]
  },
  {
   "cell_type": "code",
   "execution_count": 44,
   "metadata": {
    "collapsed": false
   },
   "outputs": [
    {
     "name": "stdout",
     "output_type": "stream",
     "text": [
      "14496 14496\n"
     ]
    }
   ],
   "source": [
    "X_droped = train[train.Num % 5 == 0]\n",
    "y_droped = X_droped['y']\n",
    "X_droped = X_droped.drop(['Num','y'], axis=1)\n",
    "print (len(X_droped), len(y_droped))"
   ]
  },
  {
   "cell_type": "code",
   "execution_count": null,
   "metadata": {
    "collapsed": true
   },
   "outputs": [],
   "source": [
    "%%time\n",
    "from sklearn.ensemble import GradientBoostingRegressor\n",
    "\n",
    "model = GradientBoostingRegressor(n_estimators=500, max_depth=5, random_state=81)\n",
    "model.fit(X_droped, y_droped)\n",
    "\n",
    "preds = model.predict(test)\n",
    "\n",
    "print (len(preds))\n",
    "print (len(sample_submission))"
   ]
  },
  {
   "cell_type": "markdown",
   "metadata": {},
   "source": [
    "Результат был хороший - SMAPE = 36 "
   ]
  },
  {
   "cell_type": "markdown",
   "metadata": {},
   "source": [
    "### Попробуем использовать shift и переделаем нашу выборку - поставим признаки на правильные места"
   ]
  },
  {
   "cell_type": "code",
   "execution_count": 2,
   "metadata": {
    "collapsed": false,
    "scrolled": false
   },
   "outputs": [
    {
     "data": {
      "text/html": [
       "<div>\n",
       "<table border=\"1\" class=\"dataframe\">\n",
       "  <thead>\n",
       "    <tr style=\"text-align: right;\">\n",
       "      <th></th>\n",
       "      <th>Num</th>\n",
       "      <th>y</th>\n",
       "      <th>year</th>\n",
       "      <th>week</th>\n",
       "      <th>shift</th>\n",
       "      <th>item_id</th>\n",
       "      <th>f1</th>\n",
       "      <th>f2</th>\n",
       "      <th>f3</th>\n",
       "      <th>f4</th>\n",
       "      <th>...</th>\n",
       "      <th>f51</th>\n",
       "      <th>f52</th>\n",
       "      <th>f53</th>\n",
       "      <th>f54</th>\n",
       "      <th>f55</th>\n",
       "      <th>f56</th>\n",
       "      <th>f57</th>\n",
       "      <th>f58</th>\n",
       "      <th>f59</th>\n",
       "      <th>f60</th>\n",
       "    </tr>\n",
       "  </thead>\n",
       "  <tbody>\n",
       "    <tr>\n",
       "      <th>0</th>\n",
       "      <td>0</td>\n",
       "      <td>123438</td>\n",
       "      <td>2012</td>\n",
       "      <td>52</td>\n",
       "      <td>1</td>\n",
       "      <td>20442076</td>\n",
       "      <td>4915.0</td>\n",
       "      <td>38056.0</td>\n",
       "      <td>40185.0</td>\n",
       "      <td>45733.0</td>\n",
       "      <td>...</td>\n",
       "      <td>39423.0</td>\n",
       "      <td>41765.0</td>\n",
       "      <td>52590.0</td>\n",
       "      <td>31452.0</td>\n",
       "      <td>44420.0</td>\n",
       "      <td>41865.0</td>\n",
       "      <td>52705.0</td>\n",
       "      <td>36102.0</td>\n",
       "      <td>44163.0</td>\n",
       "      <td>45239.0</td>\n",
       "    </tr>\n",
       "    <tr>\n",
       "      <th>1</th>\n",
       "      <td>1</td>\n",
       "      <td>58410</td>\n",
       "      <td>2012</td>\n",
       "      <td>52</td>\n",
       "      <td>1</td>\n",
       "      <td>20441997</td>\n",
       "      <td>2230.0</td>\n",
       "      <td>18817.0</td>\n",
       "      <td>20110.0</td>\n",
       "      <td>26368.0</td>\n",
       "      <td>...</td>\n",
       "      <td>22830.0</td>\n",
       "      <td>25230.0</td>\n",
       "      <td>27850.0</td>\n",
       "      <td>21390.0</td>\n",
       "      <td>27090.0</td>\n",
       "      <td>23170.0</td>\n",
       "      <td>29705.0</td>\n",
       "      <td>19140.0</td>\n",
       "      <td>22055.0</td>\n",
       "      <td>23200.0</td>\n",
       "    </tr>\n",
       "    <tr>\n",
       "      <th>2</th>\n",
       "      <td>2</td>\n",
       "      <td>163930</td>\n",
       "      <td>2012</td>\n",
       "      <td>52</td>\n",
       "      <td>1</td>\n",
       "      <td>20441990</td>\n",
       "      <td>5695.0</td>\n",
       "      <td>47480.0</td>\n",
       "      <td>47619.0</td>\n",
       "      <td>89708.0</td>\n",
       "      <td>...</td>\n",
       "      <td>14930.0</td>\n",
       "      <td>44290.0</td>\n",
       "      <td>46412.0</td>\n",
       "      <td>29320.0</td>\n",
       "      <td>21140.0</td>\n",
       "      <td>28406.0</td>\n",
       "      <td>65056.0</td>\n",
       "      <td>31886.0</td>\n",
       "      <td>48750.0</td>\n",
       "      <td>36520.0</td>\n",
       "    </tr>\n",
       "    <tr>\n",
       "      <th>3</th>\n",
       "      <td>3</td>\n",
       "      <td>53902</td>\n",
       "      <td>2012</td>\n",
       "      <td>52</td>\n",
       "      <td>1</td>\n",
       "      <td>20441989</td>\n",
       "      <td>1995.0</td>\n",
       "      <td>17146.0</td>\n",
       "      <td>20066.0</td>\n",
       "      <td>27070.0</td>\n",
       "      <td>...</td>\n",
       "      <td>15120.0</td>\n",
       "      <td>12480.0</td>\n",
       "      <td>19780.0</td>\n",
       "      <td>7990.0</td>\n",
       "      <td>8230.0</td>\n",
       "      <td>10650.0</td>\n",
       "      <td>21920.0</td>\n",
       "      <td>13040.0</td>\n",
       "      <td>9780.0</td>\n",
       "      <td>9630.0</td>\n",
       "    </tr>\n",
       "    <tr>\n",
       "      <th>4</th>\n",
       "      <td>4</td>\n",
       "      <td>105970</td>\n",
       "      <td>2012</td>\n",
       "      <td>52</td>\n",
       "      <td>1</td>\n",
       "      <td>20441988</td>\n",
       "      <td>6515.0</td>\n",
       "      <td>49262.0</td>\n",
       "      <td>50045.0</td>\n",
       "      <td>95167.0</td>\n",
       "      <td>...</td>\n",
       "      <td>18872.0</td>\n",
       "      <td>19328.0</td>\n",
       "      <td>37168.0</td>\n",
       "      <td>13570.0</td>\n",
       "      <td>19760.0</td>\n",
       "      <td>20208.0</td>\n",
       "      <td>34745.0</td>\n",
       "      <td>18442.0</td>\n",
       "      <td>24700.0</td>\n",
       "      <td>21793.0</td>\n",
       "    </tr>\n",
       "  </tbody>\n",
       "</table>\n",
       "<p>5 rows × 66 columns</p>\n",
       "</div>"
      ],
      "text/plain": [
       "   Num       y  year  week  shift   item_id      f1       f2       f3  \\\n",
       "0    0  123438  2012    52      1  20442076  4915.0  38056.0  40185.0   \n",
       "1    1   58410  2012    52      1  20441997  2230.0  18817.0  20110.0   \n",
       "2    2  163930  2012    52      1  20441990  5695.0  47480.0  47619.0   \n",
       "3    3   53902  2012    52      1  20441989  1995.0  17146.0  20066.0   \n",
       "4    4  105970  2012    52      1  20441988  6515.0  49262.0  50045.0   \n",
       "\n",
       "        f4   ...         f51      f52      f53      f54      f55      f56  \\\n",
       "0  45733.0   ...     39423.0  41765.0  52590.0  31452.0  44420.0  41865.0   \n",
       "1  26368.0   ...     22830.0  25230.0  27850.0  21390.0  27090.0  23170.0   \n",
       "2  89708.0   ...     14930.0  44290.0  46412.0  29320.0  21140.0  28406.0   \n",
       "3  27070.0   ...     15120.0  12480.0  19780.0   7990.0   8230.0  10650.0   \n",
       "4  95167.0   ...     18872.0  19328.0  37168.0  13570.0  19760.0  20208.0   \n",
       "\n",
       "       f57      f58      f59      f60  \n",
       "0  52705.0  36102.0  44163.0  45239.0  \n",
       "1  29705.0  19140.0  22055.0  23200.0  \n",
       "2  65056.0  31886.0  48750.0  36520.0  \n",
       "3  21920.0  13040.0   9780.0   9630.0  \n",
       "4  34745.0  18442.0  24700.0  21793.0  \n",
       "\n",
       "[5 rows x 66 columns]"
      ]
     },
     "execution_count": 2,
     "metadata": {},
     "output_type": "execute_result"
    }
   ],
   "source": [
    "train.head()"
   ]
  },
  {
   "cell_type": "code",
   "execution_count": 32,
   "metadata": {
    "collapsed": false,
    "scrolled": false
   },
   "outputs": [],
   "source": [
    "X_new = pd.read_csv(\"train.tsv\")\n",
    "X_new['features_week'] = X_new['week'] - X_new['shift']\n",
    "X_new['features_year'] = X_new['year']\n",
    "\n",
    "for i in range(len(X_new)):\n",
    "    if (X_new['features_week'][i] <= 0):\n",
    "        if (X_new.loc[i,'features_year'] == 2015):\n",
    "            X_new.loc[i,'features_week'] = 53 + X_new.loc[i,'features_week']\n",
    "        else:\n",
    "            X_new.loc[i,'features_week'] = 52 + X_new.loc[i,'features_week']\n",
    "        X_new.loc[i,'features_year'] -= 1"
   ]
  },
  {
   "cell_type": "code",
   "execution_count": 33,
   "metadata": {
    "collapsed": false
   },
   "outputs": [
    {
     "data": {
      "text/html": [
       "<div>\n",
       "<table border=\"1\" class=\"dataframe\">\n",
       "  <thead>\n",
       "    <tr style=\"text-align: right;\">\n",
       "      <th></th>\n",
       "      <th>Num</th>\n",
       "      <th>y</th>\n",
       "      <th>year</th>\n",
       "      <th>week</th>\n",
       "      <th>shift</th>\n",
       "      <th>item_id</th>\n",
       "      <th>f1</th>\n",
       "      <th>f2</th>\n",
       "      <th>f3</th>\n",
       "      <th>f4</th>\n",
       "      <th>...</th>\n",
       "      <th>f53</th>\n",
       "      <th>f54</th>\n",
       "      <th>f55</th>\n",
       "      <th>f56</th>\n",
       "      <th>f57</th>\n",
       "      <th>f58</th>\n",
       "      <th>f59</th>\n",
       "      <th>f60</th>\n",
       "      <th>features_week</th>\n",
       "      <th>features_year</th>\n",
       "    </tr>\n",
       "  </thead>\n",
       "  <tbody>\n",
       "    <tr>\n",
       "      <th>31868</th>\n",
       "      <td>157312</td>\n",
       "      <td>578661</td>\n",
       "      <td>2013</td>\n",
       "      <td>47</td>\n",
       "      <td>2</td>\n",
       "      <td>20448083</td>\n",
       "      <td>325401.0</td>\n",
       "      <td>462269.0</td>\n",
       "      <td>423886.0</td>\n",
       "      <td>303062.0</td>\n",
       "      <td>...</td>\n",
       "      <td>417557.0</td>\n",
       "      <td>441174.0</td>\n",
       "      <td>364465.0</td>\n",
       "      <td>339045.0</td>\n",
       "      <td>383666.0</td>\n",
       "      <td>368462.0</td>\n",
       "      <td>544448.0</td>\n",
       "      <td>192131.0</td>\n",
       "      <td>45.0</td>\n",
       "      <td>2013.0</td>\n",
       "    </tr>\n",
       "    <tr>\n",
       "      <th>70199</th>\n",
       "      <td>343901</td>\n",
       "      <td>1027927</td>\n",
       "      <td>2014</td>\n",
       "      <td>52</td>\n",
       "      <td>2</td>\n",
       "      <td>20438694</td>\n",
       "      <td>593858.0</td>\n",
       "      <td>651118.0</td>\n",
       "      <td>625255.0</td>\n",
       "      <td>552061.0</td>\n",
       "      <td>...</td>\n",
       "      <td>517679.0</td>\n",
       "      <td>616331.0</td>\n",
       "      <td>384994.0</td>\n",
       "      <td>499037.0</td>\n",
       "      <td>471680.0</td>\n",
       "      <td>515997.0</td>\n",
       "      <td>459638.0</td>\n",
       "      <td>460340.0</td>\n",
       "      <td>50.0</td>\n",
       "      <td>2014.0</td>\n",
       "    </tr>\n",
       "    <tr>\n",
       "      <th>5686</th>\n",
       "      <td>27784</td>\n",
       "      <td>958861</td>\n",
       "      <td>2013</td>\n",
       "      <td>8</td>\n",
       "      <td>1</td>\n",
       "      <td>20438539</td>\n",
       "      <td>1136500.0</td>\n",
       "      <td>1099795.0</td>\n",
       "      <td>817529.0</td>\n",
       "      <td>814748.0</td>\n",
       "      <td>...</td>\n",
       "      <td>1538955.0</td>\n",
       "      <td>390422.0</td>\n",
       "      <td>315140.0</td>\n",
       "      <td>1107287.0</td>\n",
       "      <td>871260.0</td>\n",
       "      <td>1120653.0</td>\n",
       "      <td>552481.0</td>\n",
       "      <td>545769.0</td>\n",
       "      <td>7.0</td>\n",
       "      <td>2013.0</td>\n",
       "    </tr>\n",
       "    <tr>\n",
       "      <th>5684</th>\n",
       "      <td>27782</td>\n",
       "      <td>71500</td>\n",
       "      <td>2013</td>\n",
       "      <td>8</td>\n",
       "      <td>1</td>\n",
       "      <td>20438537</td>\n",
       "      <td>82340.0</td>\n",
       "      <td>121672.0</td>\n",
       "      <td>59706.0</td>\n",
       "      <td>75390.0</td>\n",
       "      <td>...</td>\n",
       "      <td>194110.0</td>\n",
       "      <td>24460.0</td>\n",
       "      <td>29700.0</td>\n",
       "      <td>41530.0</td>\n",
       "      <td>43380.0</td>\n",
       "      <td>145250.0</td>\n",
       "      <td>29090.0</td>\n",
       "      <td>36640.0</td>\n",
       "      <td>7.0</td>\n",
       "      <td>2013.0</td>\n",
       "    </tr>\n",
       "    <tr>\n",
       "      <th>34864</th>\n",
       "      <td>170980</td>\n",
       "      <td>9595</td>\n",
       "      <td>2013</td>\n",
       "      <td>52</td>\n",
       "      <td>3</td>\n",
       "      <td>20440443</td>\n",
       "      <td>4510.0</td>\n",
       "      <td>4530.0</td>\n",
       "      <td>5460.0</td>\n",
       "      <td>4542.0</td>\n",
       "      <td>...</td>\n",
       "      <td>5274.0</td>\n",
       "      <td>5749.0</td>\n",
       "      <td>5020.0</td>\n",
       "      <td>2525.0</td>\n",
       "      <td>3820.0</td>\n",
       "      <td>3990.0</td>\n",
       "      <td>5130.0</td>\n",
       "      <td>3420.0</td>\n",
       "      <td>49.0</td>\n",
       "      <td>2013.0</td>\n",
       "    </tr>\n",
       "  </tbody>\n",
       "</table>\n",
       "<p>5 rows × 68 columns</p>\n",
       "</div>"
      ],
      "text/plain": [
       "          Num        y  year  week  shift   item_id         f1         f2  \\\n",
       "31868  157312   578661  2013    47      2  20448083   325401.0   462269.0   \n",
       "70199  343901  1027927  2014    52      2  20438694   593858.0   651118.0   \n",
       "5686    27784   958861  2013     8      1  20438539  1136500.0  1099795.0   \n",
       "5684    27782    71500  2013     8      1  20438537    82340.0   121672.0   \n",
       "34864  170980     9595  2013    52      3  20440443     4510.0     4530.0   \n",
       "\n",
       "             f3        f4      ...              f53       f54       f55  \\\n",
       "31868  423886.0  303062.0      ...         417557.0  441174.0  364465.0   \n",
       "70199  625255.0  552061.0      ...         517679.0  616331.0  384994.0   \n",
       "5686   817529.0  814748.0      ...        1538955.0  390422.0  315140.0   \n",
       "5684    59706.0   75390.0      ...         194110.0   24460.0   29700.0   \n",
       "34864    5460.0    4542.0      ...           5274.0    5749.0    5020.0   \n",
       "\n",
       "             f56       f57        f58       f59       f60  features_week  \\\n",
       "31868   339045.0  383666.0   368462.0  544448.0  192131.0           45.0   \n",
       "70199   499037.0  471680.0   515997.0  459638.0  460340.0           50.0   \n",
       "5686   1107287.0  871260.0  1120653.0  552481.0  545769.0            7.0   \n",
       "5684     41530.0   43380.0   145250.0   29090.0   36640.0            7.0   \n",
       "34864     2525.0    3820.0     3990.0    5130.0    3420.0           49.0   \n",
       "\n",
       "       features_year  \n",
       "31868         2013.0  \n",
       "70199         2014.0  \n",
       "5686          2013.0  \n",
       "5684          2013.0  \n",
       "34864         2013.0  \n",
       "\n",
       "[5 rows x 68 columns]"
      ]
     },
     "execution_count": 33,
     "metadata": {},
     "output_type": "execute_result"
    }
   ],
   "source": [
    "frac = 0.5\n",
    "X_new = X_new.sample(frac=frac, random_state=81)\n",
    "#X_new = X_new[:20000]\n",
    "len(X_new)\n",
    "X_new.head()"
   ]
  },
  {
   "cell_type": "code",
   "execution_count": 34,
   "metadata": {
    "collapsed": false,
    "scrolled": true
   },
   "outputs": [
    {
     "name": "stdout",
     "output_type": "stream",
     "text": [
      "CPU times: user 11min 52s, sys: 26.5 s, total: 12min 19s\n",
      "Wall time: 12min 26s\n"
     ]
    }
   ],
   "source": [
    "%%time\n",
    "for index, row in X_new.iterrows():\n",
    "    flag = False\n",
    "    items = X_new[X_new['item_id'] == row['item_id']]\n",
    "    for index_, row_ in items.iterrows():\n",
    "        if (row['year'] == row_['features_year'] and\n",
    "            row['week'] == row_['features_week']):\n",
    "            X_new.loc[index,'f1':'f60'] = row_['f1':'f60'] \n",
    "            flag = True\n",
    "            break\n",
    "    if (flag == False):\n",
    "        X_new.drop(index, inplace=True)\n",
    "        \n",
    "y_new = X_new['y']\n",
    "X_new = X_new.drop(['Num','y','shift','features_week','features_year'],axis=1)"
   ]
  },
  {
   "cell_type": "code",
   "execution_count": 35,
   "metadata": {
    "collapsed": false
   },
   "outputs": [
    {
     "name": "stdout",
     "output_type": "stream",
     "text": [
      "29420\n"
     ]
    },
    {
     "data": {
      "text/html": [
       "<div>\n",
       "<table border=\"1\" class=\"dataframe\">\n",
       "  <thead>\n",
       "    <tr style=\"text-align: right;\">\n",
       "      <th></th>\n",
       "      <th>year</th>\n",
       "      <th>week</th>\n",
       "      <th>item_id</th>\n",
       "      <th>f1</th>\n",
       "      <th>f2</th>\n",
       "      <th>f3</th>\n",
       "      <th>f4</th>\n",
       "      <th>f5</th>\n",
       "      <th>f6</th>\n",
       "      <th>f7</th>\n",
       "      <th>...</th>\n",
       "      <th>f51</th>\n",
       "      <th>f52</th>\n",
       "      <th>f53</th>\n",
       "      <th>f54</th>\n",
       "      <th>f55</th>\n",
       "      <th>f56</th>\n",
       "      <th>f57</th>\n",
       "      <th>f58</th>\n",
       "      <th>f59</th>\n",
       "      <th>f60</th>\n",
       "    </tr>\n",
       "  </thead>\n",
       "  <tbody>\n",
       "    <tr>\n",
       "      <th>31868</th>\n",
       "      <td>2013</td>\n",
       "      <td>47</td>\n",
       "      <td>20448083</td>\n",
       "      <td>423886.0</td>\n",
       "      <td>303062.0</td>\n",
       "      <td>394460.0</td>\n",
       "      <td>397174.0</td>\n",
       "      <td>592734.0</td>\n",
       "      <td>330116.0</td>\n",
       "      <td>294559.0</td>\n",
       "      <td>...</td>\n",
       "      <td>417557.0</td>\n",
       "      <td>441174.0</td>\n",
       "      <td>364465.0</td>\n",
       "      <td>339045.0</td>\n",
       "      <td>383666.0</td>\n",
       "      <td>368462.0</td>\n",
       "      <td>544448.0</td>\n",
       "      <td>192131.0</td>\n",
       "      <td>355802.0</td>\n",
       "      <td>359417.0</td>\n",
       "    </tr>\n",
       "    <tr>\n",
       "      <th>70199</th>\n",
       "      <td>2014</td>\n",
       "      <td>52</td>\n",
       "      <td>20438694</td>\n",
       "      <td>625255.0</td>\n",
       "      <td>552061.0</td>\n",
       "      <td>645081.0</td>\n",
       "      <td>681047.0</td>\n",
       "      <td>607230.0</td>\n",
       "      <td>597449.0</td>\n",
       "      <td>587464.0</td>\n",
       "      <td>...</td>\n",
       "      <td>517679.0</td>\n",
       "      <td>616331.0</td>\n",
       "      <td>384994.0</td>\n",
       "      <td>499037.0</td>\n",
       "      <td>471680.0</td>\n",
       "      <td>515997.0</td>\n",
       "      <td>459638.0</td>\n",
       "      <td>460340.0</td>\n",
       "      <td>509050.0</td>\n",
       "      <td>638464.0</td>\n",
       "    </tr>\n",
       "    <tr>\n",
       "      <th>5686</th>\n",
       "      <td>2013</td>\n",
       "      <td>8</td>\n",
       "      <td>20438539</td>\n",
       "      <td>1099795.0</td>\n",
       "      <td>817529.0</td>\n",
       "      <td>814748.0</td>\n",
       "      <td>919480.0</td>\n",
       "      <td>1372384.0</td>\n",
       "      <td>642415.0</td>\n",
       "      <td>713666.0</td>\n",
       "      <td>...</td>\n",
       "      <td>1072060.0</td>\n",
       "      <td>1538955.0</td>\n",
       "      <td>390422.0</td>\n",
       "      <td>315140.0</td>\n",
       "      <td>1107287.0</td>\n",
       "      <td>871260.0</td>\n",
       "      <td>1120653.0</td>\n",
       "      <td>552481.0</td>\n",
       "      <td>545769.0</td>\n",
       "      <td>595566.0</td>\n",
       "    </tr>\n",
       "    <tr>\n",
       "      <th>5684</th>\n",
       "      <td>2013</td>\n",
       "      <td>8</td>\n",
       "      <td>20438537</td>\n",
       "      <td>121672.0</td>\n",
       "      <td>59706.0</td>\n",
       "      <td>75390.0</td>\n",
       "      <td>88745.0</td>\n",
       "      <td>207960.0</td>\n",
       "      <td>43760.0</td>\n",
       "      <td>53771.0</td>\n",
       "      <td>...</td>\n",
       "      <td>56900.0</td>\n",
       "      <td>194110.0</td>\n",
       "      <td>24460.0</td>\n",
       "      <td>29700.0</td>\n",
       "      <td>41530.0</td>\n",
       "      <td>43380.0</td>\n",
       "      <td>145250.0</td>\n",
       "      <td>29090.0</td>\n",
       "      <td>36640.0</td>\n",
       "      <td>44410.0</td>\n",
       "    </tr>\n",
       "    <tr>\n",
       "      <th>34864</th>\n",
       "      <td>2013</td>\n",
       "      <td>52</td>\n",
       "      <td>20440443</td>\n",
       "      <td>4542.0</td>\n",
       "      <td>2680.0</td>\n",
       "      <td>6355.0</td>\n",
       "      <td>5670.0</td>\n",
       "      <td>5390.0</td>\n",
       "      <td>4395.0</td>\n",
       "      <td>6620.0</td>\n",
       "      <td>...</td>\n",
       "      <td>5749.0</td>\n",
       "      <td>5020.0</td>\n",
       "      <td>2525.0</td>\n",
       "      <td>3820.0</td>\n",
       "      <td>3990.0</td>\n",
       "      <td>5130.0</td>\n",
       "      <td>3420.0</td>\n",
       "      <td>4000.0</td>\n",
       "      <td>5030.0</td>\n",
       "      <td>5960.0</td>\n",
       "    </tr>\n",
       "  </tbody>\n",
       "</table>\n",
       "<p>5 rows × 63 columns</p>\n",
       "</div>"
      ],
      "text/plain": [
       "       year  week   item_id         f1        f2        f3        f4  \\\n",
       "31868  2013    47  20448083   423886.0  303062.0  394460.0  397174.0   \n",
       "70199  2014    52  20438694   625255.0  552061.0  645081.0  681047.0   \n",
       "5686   2013     8  20438539  1099795.0  817529.0  814748.0  919480.0   \n",
       "5684   2013     8  20438537   121672.0   59706.0   75390.0   88745.0   \n",
       "34864  2013    52  20440443     4542.0    2680.0    6355.0    5670.0   \n",
       "\n",
       "              f5        f6        f7    ...           f51        f52  \\\n",
       "31868   592734.0  330116.0  294559.0    ...      417557.0   441174.0   \n",
       "70199   607230.0  597449.0  587464.0    ...      517679.0   616331.0   \n",
       "5686   1372384.0  642415.0  713666.0    ...     1072060.0  1538955.0   \n",
       "5684    207960.0   43760.0   53771.0    ...       56900.0   194110.0   \n",
       "34864     5390.0    4395.0    6620.0    ...        5749.0     5020.0   \n",
       "\n",
       "            f53       f54        f55       f56        f57       f58       f59  \\\n",
       "31868  364465.0  339045.0   383666.0  368462.0   544448.0  192131.0  355802.0   \n",
       "70199  384994.0  499037.0   471680.0  515997.0   459638.0  460340.0  509050.0   \n",
       "5686   390422.0  315140.0  1107287.0  871260.0  1120653.0  552481.0  545769.0   \n",
       "5684    24460.0   29700.0    41530.0   43380.0   145250.0   29090.0   36640.0   \n",
       "34864    2525.0    3820.0     3990.0    5130.0     3420.0    4000.0    5030.0   \n",
       "\n",
       "            f60  \n",
       "31868  359417.0  \n",
       "70199  638464.0  \n",
       "5686   595566.0  \n",
       "5684    44410.0  \n",
       "34864    5960.0  \n",
       "\n",
       "[5 rows x 63 columns]"
      ]
     },
     "execution_count": 35,
     "metadata": {},
     "output_type": "execute_result"
    }
   ],
   "source": [
    "print(len(X_new))\n",
    "X_new.head()"
   ]
  },
  {
   "cell_type": "code",
   "execution_count": 36,
   "metadata": {
    "collapsed": false
   },
   "outputs": [],
   "source": [
    "test_new = pd.read_csv(\"test.tsv\")\n",
    "test_new['features_week'] = test_new['week'] - test_new['shift']\n",
    "test_new['features_year'] = test_new['year']\n",
    "\n",
    "for i in range(len(test_new)):\n",
    "    if (test_new['features_week'][i] <= 0):\n",
    "        if (test_new.loc[i,'features_year'] == 2015):\n",
    "            test_new.loc[i,'features_week'] = 53 + test_new.loc[i,'features_week']\n",
    "        else:\n",
    "            test_new.loc[i,'features_week'] = 52 + test_new.loc[i,'features_week']\n",
    "        test_new.loc[i,'features_year'] -= 1\n",
    "test_noanswer = test_new.loc[:1]"
   ]
  },
  {
   "cell_type": "code",
   "execution_count": 37,
   "metadata": {
    "collapsed": false
   },
   "outputs": [
    {
     "name": "stdout",
     "output_type": "stream",
     "text": [
      "2016\n"
     ]
    }
   ],
   "source": [
    "print(len(test_new))"
   ]
  },
  {
   "cell_type": "code",
   "execution_count": 38,
   "metadata": {
    "collapsed": false,
    "scrolled": false
   },
   "outputs": [
    {
     "name": "stdout",
     "output_type": "stream",
     "text": [
      "CPU times: user 21.5 s, sys: 232 ms, total: 21.8 s\n",
      "Wall time: 22.4 s\n"
     ]
    }
   ],
   "source": [
    "%%time\n",
    "indexes = []\n",
    "\n",
    "for index, row in test_new.iterrows():\n",
    "    flag = False\n",
    "    items = test_new[test_new['item_id'] == row['item_id']]\n",
    "    for index_, row_ in items.iterrows():\n",
    "        if (row['year'] == row_['features_year'] and\n",
    "            row['week'] == row_['features_week']):\n",
    "            test_new.loc[index,'f1':'f60'] = row_['f1':'f60'] \n",
    "            indexes.append(index)\n",
    "            flag = True\n",
    "            break\n",
    "    if (flag == False):\n",
    "        test_new.drop(index, inplace=True)\n",
    "        \n",
    "test_new = test_new.drop(['Num','shift','features_week','features_year'],axis=1)     "
   ]
  },
  {
   "cell_type": "code",
   "execution_count": 39,
   "metadata": {
    "collapsed": false,
    "scrolled": false
   },
   "outputs": [
    {
     "name": "stdout",
     "output_type": "stream",
     "text": [
      "1335\n"
     ]
    }
   ],
   "source": [
    "print(len(test_new))"
   ]
  },
  {
   "cell_type": "markdown",
   "metadata": {},
   "source": [
    "#### Для данных без нормальных фич:"
   ]
  },
  {
   "cell_type": "code",
   "execution_count": 46,
   "metadata": {
    "collapsed": false
   },
   "outputs": [
    {
     "name": "stdout",
     "output_type": "stream",
     "text": [
      "36228\n"
     ]
    }
   ],
   "source": [
    "X_usual = pd.read_csv(\"train.tsv\")\n",
    "X_usual = X_usual.sample(frac=0.5, random_state=81)\n",
    "\n",
    "y_usual = X_usual['y']\n",
    "X_usual = X_usual.drop(['Num','y'],axis=1)\n",
    "test_usual = pd.read_csv(\"test.tsv\")\n",
    "test_usual = test_usual.drop(['Num'],axis=1)\n",
    "print(len(X_usual))"
   ]
  },
  {
   "cell_type": "code",
   "execution_count": 41,
   "metadata": {
    "collapsed": false
   },
   "outputs": [
    {
     "name": "stdout",
     "output_type": "stream",
     "text": [
      "11.0823780793\n",
      "CPU times: user 5min 4s, sys: 1.51 s, total: 5min 5s\n",
      "Wall time: 5min 7s\n"
     ]
    }
   ],
   "source": [
    "%%time\n",
    "from sklearn import cross_validation\n",
    "X_train, X_test, y_train, y_test = cross_validation.train_test_split(X_new, y_new, \n",
    "                                                                     test_size=0.20, \n",
    "                                                                     random_state=1)\n",
    "\n",
    "model_xgb_2.fit(X_train, y_train)\n",
    "y_pred = model_xgb_2.predict(X_test)\n",
    "print(smape(y_pred,y_test))"
   ]
  },
  {
   "cell_type": "markdown",
   "metadata": {},
   "source": [
    "Отличный результат! Но это только для данных, у которых есть правильные признаки на тестовой выборке. С остальными данными будем использовать всю train выборку для обучения."
   ]
  },
  {
   "cell_type": "code",
   "execution_count": 47,
   "metadata": {
    "collapsed": false
   },
   "outputs": [
    {
     "name": "stdout",
     "output_type": "stream",
     "text": [
      "23.1243867311\n",
      "CPU times: user 7min 24s, sys: 3.26 s, total: 7min 28s\n",
      "Wall time: 7min 34s\n"
     ]
    }
   ],
   "source": [
    "%%time\n",
    "X_train, X_test, y_train, y_test = cross_validation.train_test_split(X_usual, y_usual, \n",
    "                                                                     test_size=0.20, \n",
    "                                                                     random_state=1)\n",
    "\n",
    "model_xgb_2.fit(X_train, y_train)\n",
    "y_pred = model_xgb_2.predict(X_test)\n",
    "print(smape(y_pred,y_test))"
   ]
  },
  {
   "cell_type": "markdown",
   "metadata": {},
   "source": [
    "Вроде бы тоже неплохо! Запустим по отдельности на каждую часть выборки и сгруппируем"
   ]
  },
  {
   "cell_type": "code",
   "execution_count": 54,
   "metadata": {
    "collapsed": false
   },
   "outputs": [
    {
     "name": "stdout",
     "output_type": "stream",
     "text": [
      "CPU times: user 8min 59s, sys: 2.25 s, total: 9min 1s\n",
      "Wall time: 9min 4s\n"
     ]
    }
   ],
   "source": [
    "%%time\n",
    "import xgboost as xgb\n",
    "from sklearn.ensemble import GradientBoostingRegressor\n",
    "\n",
    "model_usual = GradientBoostingRegressor(n_estimators=500, max_depth=5, random_state=81)\n",
    "model_xgb_2 = xgb.XGBRegressor(n_estimators=820, max_depth=19, learning_rate=0.05)\n",
    "model_xgb_2.fit(X_usual, y_usual)"
   ]
  },
  {
   "cell_type": "code",
   "execution_count": 55,
   "metadata": {
    "collapsed": false
   },
   "outputs": [
    {
     "name": "stdout",
     "output_type": "stream",
     "text": [
      "2016\n",
      "1\n",
      "CPU times: user 1.7 s, sys: 10.2 ms, total: 1.71 s\n",
      "Wall time: 1.72 s\n"
     ]
    }
   ],
   "source": [
    "%%time\n",
    "preds_usual = model_xgb_2.predict(test_usual)\n",
    "\n",
    "print (len(preds_usual))\n",
    "print (len(preds_usual[preds_usual < 0]))"
   ]
  },
  {
   "cell_type": "markdown",
   "metadata": {
    "collapsed": true
   },
   "source": [
    "### Для данных с нормальными фичами:"
   ]
  },
  {
   "cell_type": "code",
   "execution_count": 56,
   "metadata": {
    "collapsed": false
   },
   "outputs": [
    {
     "name": "stdout",
     "output_type": "stream",
     "text": [
      "CPU times: user 16 µs, sys: 1e+03 ns, total: 17 µs\n",
      "Wall time: 19.8 µs\n"
     ]
    }
   ],
   "source": [
    "%%time\n",
    "\n",
    "model_xgb = xgb.XGBRegressor(max_depth=5, n_estimators=100)"
   ]
  },
  {
   "cell_type": "code",
   "execution_count": 57,
   "metadata": {
    "collapsed": false,
    "scrolled": false
   },
   "outputs": [
    {
     "name": "stdout",
     "output_type": "stream",
     "text": [
      "1335\n",
      "3\n",
      "[   1399.79431152   25985.75390625  304728.96875    ...,   26049.55859375\n",
      "     369.25335693    5889.49316406]\n",
      "CPU times: user 6min 16s, sys: 1.98 s, total: 6min 18s\n",
      "Wall time: 6min 21s\n"
     ]
    }
   ],
   "source": [
    "%%time\n",
    "\n",
    "model_xgb_2.fit(X_new, y_new)\n",
    "preds_new = model_xgb_2.predict(test_new)\n",
    "\n",
    "print (len(preds_new))\n",
    "print (len(preds_new[preds_new < 0]))\n",
    "print(preds_new)"
   ]
  },
  {
   "cell_type": "code",
   "execution_count": 60,
   "metadata": {
    "collapsed": false
   },
   "outputs": [
    {
     "name": "stdout",
     "output_type": "stream",
     "text": [
      "[   0    1    2 ..., 1573 1574 1575]\n"
     ]
    }
   ],
   "source": [
    "print((np.array(indexes)))"
   ]
  },
  {
   "cell_type": "code",
   "execution_count": 61,
   "metadata": {
    "collapsed": false
   },
   "outputs": [
    {
     "name": "stdout",
     "output_type": "stream",
     "text": [
      "2016\n"
     ]
    },
    {
     "data": {
      "text/plain": [
       "array([   1399.79431152,   25985.75390625,  304728.96875   , ...,\n",
       "         21283.13671875,     410.88430786,    4284.0546875 ], dtype=float32)"
      ]
     },
     "execution_count": 61,
     "metadata": {},
     "output_type": "execute_result"
    }
   ],
   "source": [
    "for num, k in enumerate(indexes):\n",
    "    preds_usual[k] = preds_new[num]\n",
    "\n",
    "print(len(preds_usual))\n",
    "preds_usual"
   ]
  },
  {
   "cell_type": "code",
   "execution_count": 62,
   "metadata": {
    "collapsed": false
   },
   "outputs": [
    {
     "name": "stdout",
     "output_type": "stream",
     "text": [
      "4\n"
     ]
    }
   ],
   "source": [
    "sample_submission['y'] = preds_usual\n",
    "sample_submission.head(5)\n",
    "print (len(sample_submission[sample_submission['y'] < 0]))\n",
    "sample_submission['y'] = sample_submission['y'].map(lambda x: x if x > 0 else 0.0)\n",
    "sample_submission.to_csv(\"baseline_submission.tsv\", sep=',', index=False)"
   ]
  },
  {
   "cell_type": "code",
   "execution_count": 65,
   "metadata": {
    "collapsed": false
   },
   "outputs": [
    {
     "data": {
      "text/plain": [
       "149144.67"
      ]
     },
     "execution_count": 65,
     "metadata": {},
     "output_type": "execute_result"
    }
   ],
   "source": [
    "preds_usual.mean()"
   ]
  },
  {
   "cell_type": "markdown",
   "metadata": {},
   "source": [
    "Этот результат дал SMAPE = 21 на kaggle."
   ]
  }
 ],
 "metadata": {
  "kernelspec": {
   "display_name": "Python 3",
   "language": "python",
   "name": "python3"
  },
  "language_info": {
   "codemirror_mode": {
    "name": "ipython",
    "version": 3
   },
   "file_extension": ".py",
   "mimetype": "text/x-python",
   "name": "python",
   "nbconvert_exporter": "python",
   "pygments_lexer": "ipython3",
   "version": "3.6.0"
  }
 },
 "nbformat": 4,
 "nbformat_minor": 0
}
