{
 "cells": [
  {
   "cell_type": "markdown",
   "metadata": {},
   "source": [
    "# CIFAR Conv Net\n",
    "\n",
    "И так, в этом ноутбуке Вы сделаете превую в своей жизни сверточную сеть! На сложном датасете. Cкачайте его кстати, "
   ]
  },
  {
   "cell_type": "code",
   "execution_count": 1,
   "metadata": {
    "collapsed": false
   },
   "outputs": [],
   "source": [
    "#!mkdir cifar10\n",
    "#!curl -o cifar-10-python.tar.gz https://www.cs.toronto.edu/~kriz/cifar-10-python.tar.gz\n",
    "#!tar -xvzf cifar-10-python.tar.gz -C cifar10"
   ]
  },
  {
   "cell_type": "code",
   "execution_count": 2,
   "metadata": {
    "collapsed": false
   },
   "outputs": [],
   "source": [
    "import numpy as np\n",
    "import matplotlib.pyplot as plt\n",
    "\n",
    "%matplotlib inline"
   ]
  },
  {
   "cell_type": "code",
   "execution_count": 3,
   "metadata": {
    "collapsed": false
   },
   "outputs": [
    {
     "name": "stderr",
     "output_type": "stream",
     "text": [
      "Using cuDNN version 5110 on context None\n",
      "Mapped name None to device cuda0: GRID K520 (0000:00:03.0)\n"
     ]
    },
    {
     "name": "stdout",
     "output_type": "stream",
     "text": [
      "X_train  (100000, 3, 32, 32)  X_test  (10000, 3, 32, 32)\n"
     ]
    }
   ],
   "source": [
    "from cifar import load_CIFAR10\n",
    "plt.rcParams['figure.figsize'] = (10.0, 8.0) \n",
    "\n",
    "cifar10_dir = './cifar10/cifar-10-batches-py'\n",
    "data = load_CIFAR10(cifar10_dir)\n",
    "X_train = data['X_train']\n",
    "y_train = data['Y_train']\n",
    "X_test = data['X_test']\n",
    "y_test = data['Y_test']\n",
    "\n",
    "#X_train, y_train, X_test, y_test = load_CIFAR10(cifar10_dir)\n",
    "print(\"X_train \", X_train.shape, \" X_test \", X_test.shape)"
   ]
  },
  {
   "cell_type": "code",
   "execution_count": 4,
   "metadata": {
    "collapsed": false
   },
   "outputs": [
    {
     "data": {
      "image/png": "[encoded data removed]",
      "text/plain": [
       "<matplotlib.figure.Figure at 0x7f12cc4be320>"
      ]
     },
     "metadata": {},
     "output_type": "display_data"
    }
   ],
   "source": [
    "classes = ['plane', 'car', 'bird', 'cat', 'deer', 'dog', 'frog', 'horse', 'ship', 'truck']\n",
    "num_classes = len(classes)\n",
    "samples_per_class = 7\n",
    "for y, cls in enumerate(classes):\n",
    "    idxs = np.flatnonzero(y_train == y)\n",
    "    idxs = np.random.choice(idxs, samples_per_class, replace=False)\n",
    "    for i, idx in enumerate(idxs):\n",
    "        plt_idx = i * num_classes + y + 1\n",
    "        plt.subplot(samples_per_class, num_classes, plt_idx)\n",
    "        plt.imshow(X_train[idx].astype('uint8').transpose(1, 2, 0))\n",
    "        plt.axis('off')\n",
    "        if i == 0:\n",
    "            plt.title(cls)\n",
    "plt.show()"
   ]
  },
  {
   "cell_type": "markdown",
   "metadata": {},
   "source": [
    "<h1 align=\"center\">First of all -- Checking Questions</h1> \n",
    "\n",
    "**Вопрос 1**: Чем отличаются современные сверточные сети от сетей 5 летней давности?\n",
    "\n",
    "5 лет назад сверточные сети были намного менее глубокими, чем сейчас. Возьмем, к примеру, AlexNet (2012) - там было в общей сложности 8 слоев. Эта сверточная сеть давала топ-5 ошибку, т.е. для каждой картинки на выходе было 5 классов и если правильный попал в их число, то предсказание считалось правильным. К совеременным сверточным сетям отностся более глубокие: VGG с 19 слоями, GoogleNet с 22 слоями и ResNet - 152 слоя. \n",
    "\n",
    "**Вопрос 2**: Какие неприятности могут возникнуть во время обучения современных нейросетей?\n",
    "\n",
    "Если создать сразу очень глубокую сеть, она может не учиться. Чтобы это пофиксить, можно к не очень глубокой сети постепенно добавлять слои и доучивать на уже полученных весах.\n",
    "\n",
    "\n",
    "**Вопрос 3**: У вас есть очень маленький датасет из 100 картинок, классификация, но вы очень хотите использовать нейросеть, какие неприятности вас ждут и как их решить? что делать если первый вариант  решения не заработает?\n",
    "\n",
    "Думаю, можно использовать уже натренированные сети и файн тьюнинг. Если это не работает, возможно, нужно из маленького датасета генироровать большой добавлением шумов, преобразованием изображением и тому подобное.\n",
    "\n",
    "**Вопрос 4**: Как сделать стайл трансфер для музыки? oO\n",
    "\n",
    "Сделать из аудиозаписи спектрограмму и работать как с картинкой. Длеать мини-батчи по времени."
   ]
  },
  {
   "cell_type": "code",
   "execution_count": 5,
   "metadata": {
    "collapsed": false
   },
   "outputs": [],
   "source": [
    "import lasagne\n",
    "from lasagne.layers import *\n",
    "from theano import tensor as T\n",
    "from lasagne.nonlinearities import *\n",
    "\n",
    "input_X = T.tensor4(\"X\")\n",
    "target_y = T.ivector(\"target Y integer\")"
   ]
  },
  {
   "cell_type": "markdown",
   "metadata": {},
   "source": [
    "### Соберите нейронку: \n",
    "- Many times x (Conv+Pool)\n",
    "- Many small convolutions like 3x3\n",
    "- Batch Norm \n",
    "- Residual Connection\n",
    "- Data Augmentation \n",
    "- Learning rate Schedule \n",
    "- ...\n",
    "\n",
    "### Для вдохновения \n",
    "- http://torch.ch/blog/2015/07/30/cifar.html\n",
    "- https://github.com/szagoruyko/wide-residual-networks \n",
    "\n",
    "### Самое интересное\n",
    "- Для сдачи задания нужно набрать на точность тесте > **92.5**% (это займет много времени, торопитесь :) )\n",
    "- Для получения бонусных баллов > **95.0**%\n",
    "- Будет очень хорошо если вы придумаете свою архитектуру или сможете обучить что-то из вышеперечисленного :)\n",
    "- А для обучения всего этого добра вам будет куда удобнее использовать GPU на Amazon \n",
    "    - Инструкция https://github.com/persiyanov/ml-mipt/tree/master/amazon-howto \n",
    "    - Вам помогут tmux, CuDNN, ssh tunnel, nvidia-smi, ... \n",
    "    - Have fun :)"
   ]
  },
  {
   "cell_type": "markdown",
   "metadata": {},
   "source": [
    "#### Модель взята на основе статьи из лекции: http://arxiv.org/abs/1512.03385"
   ]
  },
  {
   "cell_type": "code",
   "execution_count": 15,
   "metadata": {
    "collapsed": false
   },
   "outputs": [],
   "source": [
    "def residual_block(net, increase_dim=False):\n",
    "    input_num_filters = net.output_shape[1]\n",
    "    if increase_dim:\n",
    "        stride = (2,2)\n",
    "        out_num_filters = input_num_filters*2\n",
    "    else:\n",
    "        stride = (1,1)\n",
    "        out_num_filters = input_num_filters\n",
    "    \n",
    "    net_ = Conv2DLayer(net, num_filters=out_num_filters, filter_size=(3,3), stride=stride, pad='same', \n",
    "                         W=lasagne.init.HeNormal(gain='relu'), flip_filters=False)\n",
    "    net_ = batch_norm(net_)\n",
    "    net_ = Conv2DLayer(net_, num_filters=out_num_filters, filter_size=(3,3), stride=(1,1), \n",
    "                         nonlinearity=None, pad='same', W=lasagne.init.HeNormal(gain='relu'), flip_filters=False)\n",
    "    net_ = batch_norm(net_)\n",
    "\n",
    "    if increase_dim:\n",
    "        # shortcut \n",
    "        identity = ExpressionLayer(net, lambda X: X[:, :, ::2, ::2], lambda s: (s[0], s[1], s[2]//2, s[3]//2))\n",
    "        padding = PadLayer(identity, [out_num_filters//4,0,0], batch_ndim=1)\n",
    "        elem = ElemwiseSumLayer([net_, padding])\n",
    "        block = NonlinearityLayer(elem,nonlinearity=rectify)\n",
    "    else:\n",
    "        elem = ElemwiseSumLayer([net_, net])\n",
    "        block = NonlinearityLayer(elem,nonlinearity=rectify)\n",
    "\n",
    "    return block"
   ]
  },
  {
   "cell_type": "code",
   "execution_count": 16,
   "metadata": {
    "collapsed": false,
    "scrolled": false
   },
   "outputs": [],
   "source": [
    "net = InputLayer(shape=(None, 3, 32, 32), input_var=input_X)\n",
    "net = Conv2DLayer(net, num_filters=16, filter_size=(3,3), pad='same', \n",
    "                  W=lasagne.init.HeNormal(gain='relu'), flip_filters=False)\n",
    "net = batch_norm(net)\n",
    "\n",
    "for i in range(5):\n",
    "    net = residual_block(net)\n",
    "\n",
    "net = residual_block(net, increase_dim=True)\n",
    "for i in range(1,5):\n",
    "    net = residual_block(net)\n",
    "\n",
    "net = residual_block(net, increase_dim=True)\n",
    "for i in range(1,5):\n",
    "    net = residual_block(net)\n",
    "\n",
    "net = GlobalPoolLayer(net)\n",
    "\n",
    "net = DenseLayer(net, num_units=10, W=lasagne.init.HeNormal(), nonlinearity=softmax)"
   ]
  },
  {
   "cell_type": "code",
   "execution_count": 17,
   "metadata": {
    "collapsed": false
   },
   "outputs": [
    {
     "name": "stdout",
     "output_type": "stream",
     "text": [
      "[W, beta, gamma, W, beta, gamma, W, beta, gamma, W, beta, gamma, W, beta, gamma, W, beta, gamma, W, beta, gamma, W, beta, gamma, W, beta, gamma, W, beta, gamma, W, beta, gamma, W, beta, gamma, W, beta, gamma, W, beta, gamma, W, beta, gamma, W, beta, gamma, W, beta, gamma, W, beta, gamma, W, beta, gamma, W, beta, gamma, W, beta, gamma, W, beta, gamma, W, beta, gamma, W, beta, gamma, W, beta, gamma, W, beta, gamma, W, beta, gamma, W, beta, gamma, W, beta, gamma, W, beta, gamma, W, beta, gamma, W, b]\n"
     ]
    }
   ],
   "source": [
    "y_predicted = lasagne.layers.get_output(net)\n",
    "\n",
    "all_weights = lasagne.layers.get_all_params(net, trainable=True)\n",
    "print (all_weights)"
   ]
  },
  {
   "cell_type": "code",
   "execution_count": 18,
   "metadata": {
    "collapsed": false
   },
   "outputs": [],
   "source": [
    "loss = lasagne.objectives.categorical_crossentropy(y_predicted, target_y).mean() \n",
    "all_layers = lasagne.layers.get_all_layers(net)\n",
    "loss += lasagne.regularization.regularize_layer_params(all_layers, \n",
    "                                                       lasagne.regularization.l2) * 1e-4\n",
    "\n",
    "accuracy = lasagne.objectives.categorical_accuracy(y_predicted, target_y).mean() "
   ]
  },
  {
   "cell_type": "code",
   "execution_count": 19,
   "metadata": {
    "collapsed": false
   },
   "outputs": [],
   "source": [
    "lr = 0.1\n",
    "sh_lr = theano.shared(lasagne.utils.floatX(lr))\n",
    "updates = lasagne.updates.momentum(loss, all_weights, learning_rate=sh_lr, momentum=0.9)"
   ]
  },
  {
   "cell_type": "code",
   "execution_count": 20,
   "metadata": {
    "collapsed": false,
    "scrolled": false
   },
   "outputs": [],
   "source": [
    "train_fn = theano.function([input_X, target_y], loss, updates=updates)\n",
    "\n",
    "test_prediction = lasagne.layers.get_output(net, deterministic=True)\n",
    "test_loss = lasagne.objectives.categorical_crossentropy(test_prediction,target_y).mean()\n",
    "test_acc = T.mean(T.eq(T.argmax(test_prediction, axis=1), target_y),\n",
    "                  dtype=theano.config.floatX)\n",
    "\n",
    "val_fn = theano.function([input_X, target_y], [test_loss, test_acc])"
   ]
  },
  {
   "cell_type": "markdown",
   "metadata": {},
   "source": [
    "### Вот и всё, пошли её учить"
   ]
  },
  {
   "cell_type": "code",
   "execution_count": 21,
   "metadata": {
    "collapsed": true
   },
   "outputs": [],
   "source": [
    "def iterate_minibatches(inputs, targets, batchsize, shuffle=False, augment=False):\n",
    "    assert len(inputs) == len(targets)\n",
    "    if shuffle:\n",
    "        indices = np.arange(len(inputs))\n",
    "        np.random.shuffle(indices)\n",
    "    for start_idx in range(0, len(inputs) - batchsize + 1, batchsize):\n",
    "        if shuffle:\n",
    "            excerpt = indices[start_idx:start_idx + batchsize]\n",
    "        else:\n",
    "            excerpt = slice(start_idx, start_idx + batchsize)\n",
    "        if augment:\n",
    "            padded = np.pad(inputs[excerpt],((0,0),(0,0),(4,4),(4,4)),mode='constant')\n",
    "            random_cropped = np.zeros(inputs[excerpt].shape, dtype=np.float32)\n",
    "            crops = np.random.random_integers(0,high=8,size=(batchsize,2))\n",
    "            for r in range(batchsize):\n",
    "                random_cropped[r,:,:,:] = padded[r,:,crops[r,0]:(crops[r,0]+32),crops[r,1]:(crops[r,1]+32)]\n",
    "            inp_exc = random_cropped\n",
    "        else:\n",
    "            inp_exc = inputs[excerpt]\n",
    "\n",
    "        yield inp_exc, targets[excerpt]"
   ]
  },
  {
   "cell_type": "code",
   "execution_count": 22,
   "metadata": {
    "collapsed": false
   },
   "outputs": [
    {
     "data": {
      "text/plain": [
       "'Thu Apr 27 11:27:58 2017'"
      ]
     },
     "execution_count": 22,
     "metadata": {},
     "output_type": "execute_result"
    }
   ],
   "source": [
    "import time\n",
    "time.ctime()"
   ]
  },
  {
   "cell_type": "markdown",
   "metadata": {},
   "source": [
    "# Процесс обучения"
   ]
  },
  {
   "cell_type": "code",
   "execution_count": 23,
   "metadata": {
    "collapsed": true
   },
   "outputs": [],
   "source": [
    "train_loss_array = []\n",
    "val_loss_array = []\n",
    "val_acc_array = []"
   ]
  },
  {
   "cell_type": "code",
   "execution_count": 24,
   "metadata": {
    "collapsed": false,
    "scrolled": false
   },
   "outputs": [
    {
     "name": "stderr",
     "output_type": "stream",
     "text": [
      "/home/ec2-user/anaconda3/lib/python3.6/site-packages/ipykernel/__main__.py:17: DeprecationWarning: This function is deprecated. Please call randint(0, 8 + 1) instead\n"
     ]
    },
    {
     "name": "stdout",
     "output_type": "stream",
     "text": [
      "Epoch 1 of 82 took 210.161s\n",
      "  training loss:\t\t1.810493\n",
      "  validation loss:\t\t1.203177\n",
      "  validation accuracy:\t\t57.66 %\n",
      "Epoch 2 of 82 took 210.158s\n",
      "  training loss:\t\t1.196264\n",
      "  validation loss:\t\t0.909361\n",
      "  validation accuracy:\t\t69.72 %\n",
      "Epoch 3 of 82 took 210.150s\n",
      "  training loss:\t\t0.936636\n",
      "  validation loss:\t\t0.848096\n",
      "  validation accuracy:\t\t73.17 %\n",
      "Epoch 4 of 82 took 210.146s\n",
      "  training loss:\t\t0.814017\n",
      "  validation loss:\t\t0.730624\n",
      "  validation accuracy:\t\t75.85 %\n",
      "Epoch 5 of 82 took 210.153s\n",
      "  training loss:\t\t0.741796\n",
      "  validation loss:\t\t0.604076\n",
      "  validation accuracy:\t\t80.33 %\n",
      "Epoch 6 of 82 took 210.140s\n",
      "  training loss:\t\t0.701765\n",
      "  validation loss:\t\t0.558032\n",
      "  validation accuracy:\t\t81.32 %\n",
      "Epoch 7 of 82 took 210.172s\n",
      "  training loss:\t\t0.670020\n",
      "  validation loss:\t\t0.605088\n",
      "  validation accuracy:\t\t80.61 %\n",
      "Epoch 8 of 82 took 210.151s\n",
      "  training loss:\t\t0.655080\n",
      "  validation loss:\t\t0.744129\n",
      "  validation accuracy:\t\t76.45 %\n",
      "Epoch 9 of 82 took 210.140s\n",
      "  training loss:\t\t0.632365\n",
      "  validation loss:\t\t0.481866\n",
      "  validation accuracy:\t\t83.90 %\n",
      "Epoch 10 of 82 took 210.159s\n",
      "  training loss:\t\t0.624208\n",
      "  validation loss:\t\t0.555239\n",
      "  validation accuracy:\t\t81.78 %\n",
      "Epoch 11 of 82 took 209.315s\n",
      "  training loss:\t\t0.612781\n",
      "  validation loss:\t\t0.512272\n",
      "  validation accuracy:\t\t83.02 %\n",
      "Epoch 12 of 82 took 210.131s\n",
      "  training loss:\t\t0.606044\n",
      "  validation loss:\t\t0.460789\n",
      "  validation accuracy:\t\t84.82 %\n",
      "Epoch 13 of 82 took 210.148s\n",
      "  training loss:\t\t0.598500\n",
      "  validation loss:\t\t0.496852\n",
      "  validation accuracy:\t\t82.94 %\n",
      "Epoch 14 of 82 took 210.175s\n",
      "  training loss:\t\t0.593248\n",
      "  validation loss:\t\t0.462149\n",
      "  validation accuracy:\t\t84.94 %\n",
      "Epoch 15 of 82 took 210.170s\n",
      "  training loss:\t\t0.584037\n",
      "  validation loss:\t\t0.539911\n",
      "  validation accuracy:\t\t82.42 %\n",
      "Epoch 16 of 82 took 210.137s\n",
      "  training loss:\t\t0.586215\n",
      "  validation loss:\t\t0.489260\n",
      "  validation accuracy:\t\t83.56 %\n",
      "Epoch 17 of 82 took 210.142s\n",
      "  training loss:\t\t0.583224\n",
      "  validation loss:\t\t0.420239\n",
      "  validation accuracy:\t\t85.97 %\n",
      "Epoch 18 of 82 took 210.151s\n",
      "  training loss:\t\t0.577418\n",
      "  validation loss:\t\t0.410193\n",
      "  validation accuracy:\t\t86.39 %\n",
      "Epoch 19 of 82 took 210.155s\n",
      "  training loss:\t\t0.575480\n",
      "  validation loss:\t\t0.506102\n",
      "  validation accuracy:\t\t83.47 %\n",
      "Epoch 20 of 82 took 210.162s\n",
      "  training loss:\t\t0.571855\n",
      "  validation loss:\t\t0.537451\n",
      "  validation accuracy:\t\t83.39 %\n",
      "Epoch 21 of 82 took 210.163s\n",
      "  training loss:\t\t0.571793\n",
      "  validation loss:\t\t0.448379\n",
      "  validation accuracy:\t\t85.55 %\n",
      "Epoch 22 of 82 took 210.165s\n",
      "  training loss:\t\t0.566704\n",
      "  validation loss:\t\t0.531560\n",
      "  validation accuracy:\t\t82.97 %\n",
      "Epoch 23 of 82 took 210.138s\n",
      "  training loss:\t\t0.564047\n",
      "  validation loss:\t\t0.510848\n",
      "  validation accuracy:\t\t84.30 %\n",
      "Epoch 24 of 82 took 210.141s\n",
      "  training loss:\t\t0.563064\n",
      "  validation loss:\t\t0.407682\n",
      "  validation accuracy:\t\t86.81 %\n",
      "Epoch 25 of 82 took 210.143s\n",
      "  training loss:\t\t0.553843\n",
      "  validation loss:\t\t0.431636\n",
      "  validation accuracy:\t\t85.89 %\n",
      "Epoch 26 of 82 took 210.140s\n",
      "  training loss:\t\t0.559163\n",
      "  validation loss:\t\t0.652829\n",
      "  validation accuracy:\t\t81.34 %\n",
      "Epoch 27 of 82 took 210.141s\n",
      "  training loss:\t\t0.557715\n",
      "  validation loss:\t\t0.467568\n",
      "  validation accuracy:\t\t84.66 %\n",
      "Epoch 28 of 82 took 210.142s\n",
      "  training loss:\t\t0.556965\n",
      "  validation loss:\t\t0.522294\n",
      "  validation accuracy:\t\t83.81 %\n",
      "Epoch 29 of 82 took 209.301s\n",
      "  training loss:\t\t0.548814\n",
      "  validation loss:\t\t0.439856\n",
      "  validation accuracy:\t\t85.44 %\n",
      "Epoch 30 of 82 took 210.168s\n",
      "  training loss:\t\t0.555696\n",
      "  validation loss:\t\t0.446211\n",
      "  validation accuracy:\t\t85.20 %\n",
      "Epoch 31 of 82 took 210.175s\n",
      "  training loss:\t\t0.550777\n",
      "  validation loss:\t\t0.519490\n",
      "  validation accuracy:\t\t84.24 %\n",
      "Epoch 32 of 82 took 210.145s\n",
      "  training loss:\t\t0.548802\n",
      "  validation loss:\t\t0.356024\n",
      "  validation accuracy:\t\t88.52 %\n",
      "Epoch 33 of 82 took 210.155s\n",
      "  training loss:\t\t0.553305\n",
      "  validation loss:\t\t0.361495\n",
      "  validation accuracy:\t\t88.51 %\n",
      "Epoch 34 of 82 took 210.149s\n",
      "  training loss:\t\t0.545050\n",
      "  validation loss:\t\t0.403048\n",
      "  validation accuracy:\t\t86.65 %\n",
      "Epoch 35 of 82 took 209.298s\n",
      "  training loss:\t\t0.547219\n",
      "  validation loss:\t\t0.391483\n",
      "  validation accuracy:\t\t86.79 %\n",
      "Epoch 36 of 82 took 210.122s\n",
      "  training loss:\t\t0.545737\n",
      "  validation loss:\t\t0.407175\n",
      "  validation accuracy:\t\t86.98 %\n",
      "Epoch 37 of 82 took 210.141s\n",
      "  training loss:\t\t0.545560\n",
      "  validation loss:\t\t0.479548\n",
      "  validation accuracy:\t\t85.45 %\n",
      "Epoch 38 of 82 took 210.133s\n",
      "  training loss:\t\t0.540465\n",
      "  validation loss:\t\t0.422006\n",
      "  validation accuracy:\t\t86.29 %\n",
      "Epoch 39 of 82 took 210.169s\n",
      "  training loss:\t\t0.542373\n",
      "  validation loss:\t\t0.426235\n",
      "  validation accuracy:\t\t85.99 %\n",
      "Epoch 40 of 82 took 210.184s\n",
      "  training loss:\t\t0.543915\n",
      "  validation loss:\t\t0.414940\n",
      "  validation accuracy:\t\t86.47 %\n",
      "Epoch 41 of 82 took 210.139s\n",
      "  training loss:\t\t0.542865\n",
      "  validation loss:\t\t0.445466\n",
      "  validation accuracy:\t\t85.73 %\n",
      "New LR:0.010000000149\n",
      "Epoch 42 of 82 took 210.124s\n",
      "  training loss:\t\t0.428444\n",
      "  validation loss:\t\t0.236731\n",
      "  validation accuracy:\t\t92.15 %\n",
      "Epoch 43 of 82 took 210.139s\n",
      "  training loss:\t\t0.376629\n",
      "  validation loss:\t\t0.235478\n",
      "  validation accuracy:\t\t92.48 %\n",
      "Epoch 44 of 82 took 210.116s\n",
      "  training loss:\t\t0.356323\n",
      "  validation loss:\t\t0.233709\n",
      "  validation accuracy:\t\t92.56 %\n",
      "Epoch 45 of 82 took 210.124s\n",
      "  training loss:\t\t0.339361\n",
      "  validation loss:\t\t0.238995\n",
      "  validation accuracy:\t\t92.67 %\n",
      "Epoch 46 of 82 took 210.105s\n",
      "  training loss:\t\t0.324755\n",
      "  validation loss:\t\t0.243529\n",
      "  validation accuracy:\t\t92.91 %\n",
      "Epoch 47 of 82 took 210.058s\n",
      "  training loss:\t\t0.311807\n",
      "  validation loss:\t\t0.242445\n",
      "  validation accuracy:\t\t92.73 %\n",
      "Epoch 48 of 82 took 210.051s\n",
      "  training loss:\t\t0.298728\n",
      "  validation loss:\t\t0.245331\n",
      "  validation accuracy:\t\t92.53 %\n",
      "Epoch 49 of 82 took 210.122s\n",
      "  training loss:\t\t0.290554\n",
      "  validation loss:\t\t0.261417\n",
      "  validation accuracy:\t\t92.58 %\n",
      "Epoch 50 of 82 took 210.143s\n",
      "  training loss:\t\t0.279577\n",
      "  validation loss:\t\t0.258410\n",
      "  validation accuracy:\t\t92.75 %\n",
      "Epoch 51 of 82 took 210.114s\n",
      "  training loss:\t\t0.270832\n",
      "  validation loss:\t\t0.268483\n",
      "  validation accuracy:\t\t92.65 %\n",
      "Epoch 52 of 82 took 210.145s\n",
      "  training loss:\t\t0.262336\n",
      "  validation loss:\t\t0.275013\n",
      "  validation accuracy:\t\t92.47 %\n",
      "Epoch 53 of 82 took 210.122s\n",
      "  training loss:\t\t0.254258\n",
      "  validation loss:\t\t0.271121\n",
      "  validation accuracy:\t\t92.70 %\n",
      "Epoch 54 of 82 took 210.091s\n",
      "  training loss:\t\t0.248598\n",
      "  validation loss:\t\t0.281535\n",
      "  validation accuracy:\t\t92.37 %\n",
      "Epoch 55 of 82 took 210.055s\n",
      "  training loss:\t\t0.240677\n",
      "  validation loss:\t\t0.284183\n",
      "  validation accuracy:\t\t92.66 %\n",
      "Epoch 56 of 82 took 210.065s\n",
      "  training loss:\t\t0.234961\n",
      "  validation loss:\t\t0.284858\n",
      "  validation accuracy:\t\t92.58 %\n",
      "Epoch 57 of 82 took 210.075s\n",
      "  training loss:\t\t0.229531\n",
      "  validation loss:\t\t0.290187\n",
      "  validation accuracy:\t\t92.70 %\n",
      "Epoch 58 of 82 took 210.062s\n",
      "  training loss:\t\t0.223532\n",
      "  validation loss:\t\t0.306621\n",
      "  validation accuracy:\t\t92.39 %\n",
      "Epoch 59 of 82 took 210.063s\n",
      "  training loss:\t\t0.218872\n",
      "  validation loss:\t\t0.294438\n",
      "  validation accuracy:\t\t92.20 %\n",
      "Epoch 60 of 82 took 210.066s\n",
      "  training loss:\t\t0.214721\n",
      "  validation loss:\t\t0.315732\n",
      "  validation accuracy:\t\t92.37 %\n",
      "Epoch 61 of 82 took 210.068s\n",
      "  training loss:\t\t0.210672\n",
      "  validation loss:\t\t0.312678\n",
      "  validation accuracy:\t\t92.12 %\n",
      "New LR:0.000999999977648\n",
      "Epoch 62 of 82 took 210.065s\n",
      "  training loss:\t\t0.202241\n",
      "  validation loss:\t\t0.282068\n",
      "  validation accuracy:\t\t92.64 %\n",
      "Epoch 63 of 82 took 210.062s\n",
      "  training loss:\t\t0.196415\n",
      "  validation loss:\t\t0.282751\n",
      "  validation accuracy:\t\t92.71 %\n",
      "Epoch 64 of 82 took 210.050s\n",
      "  training loss:\t\t0.193723\n",
      "  validation loss:\t\t0.282011\n",
      "  validation accuracy:\t\t92.62 %\n",
      "Epoch 65 of 82 took 210.051s\n",
      "  training loss:\t\t0.193180\n",
      "  validation loss:\t\t0.280560\n",
      "  validation accuracy:\t\t92.80 %\n",
      "Epoch 66 of 82 took 210.062s\n",
      "  training loss:\t\t0.191095\n",
      "  validation loss:\t\t0.282662\n",
      "  validation accuracy:\t\t92.82 %\n",
      "Epoch 67 of 82 took 210.049s\n",
      "  training loss:\t\t0.190471\n",
      "  validation loss:\t\t0.282546\n",
      "  validation accuracy:\t\t92.71 %\n",
      "Epoch 68 of 82 took 210.051s\n",
      "  training loss:\t\t0.189228\n",
      "  validation loss:\t\t0.287960\n",
      "  validation accuracy:\t\t92.75 %\n",
      "Epoch 69 of 82 took 210.058s\n",
      "  training loss:\t\t0.188614\n",
      "  validation loss:\t\t0.282639\n",
      "  validation accuracy:\t\t92.80 %\n",
      "Epoch 70 of 82 took 210.049s\n",
      "  training loss:\t\t0.188191\n",
      "  validation loss:\t\t0.283566\n",
      "  validation accuracy:\t\t92.80 %\n",
      "Epoch 71 of 82 took 210.057s\n",
      "  training loss:\t\t0.186946\n",
      "  validation loss:\t\t0.283726\n",
      "  validation accuracy:\t\t92.84 %\n",
      "Epoch 72 of 82 took 210.062s\n",
      "  training loss:\t\t0.186434\n",
      "  validation loss:\t\t0.286376\n",
      "  validation accuracy:\t\t92.85 %\n",
      "Epoch 73 of 82 took 210.060s\n",
      "  training loss:\t\t0.186062\n",
      "  validation loss:\t\t0.285604\n",
      "  validation accuracy:\t\t92.89 %\n",
      "Epoch 74 of 82 took 210.045s\n",
      "  training loss:\t\t0.185186\n",
      "  validation loss:\t\t0.285815\n",
      "  validation accuracy:\t\t92.79 %\n",
      "Epoch 75 of 82 took 210.064s\n",
      "  training loss:\t\t0.184847\n",
      "  validation loss:\t\t0.286696\n",
      "  validation accuracy:\t\t92.83 %\n",
      "Epoch 76 of 82 took 210.064s\n",
      "  training loss:\t\t0.183199\n",
      "  validation loss:\t\t0.287293\n",
      "  validation accuracy:\t\t92.89 %\n",
      "Epoch 77 of 82 took 210.049s\n",
      "  training loss:\t\t0.183390\n",
      "  validation loss:\t\t0.285914\n",
      "  validation accuracy:\t\t92.86 %\n",
      "Epoch 78 of 82 took 210.051s\n",
      "  training loss:\t\t0.182248\n",
      "  validation loss:\t\t0.288502\n",
      "  validation accuracy:\t\t92.88 %\n",
      "Epoch 79 of 82 took 210.047s\n",
      "  training loss:\t\t0.181786\n",
      "  validation loss:\t\t0.290483\n",
      "  validation accuracy:\t\t92.86 %\n",
      "Epoch 80 of 82 took 210.043s\n",
      "  training loss:\t\t0.180883\n",
      "  validation loss:\t\t0.291453\n",
      "  validation accuracy:\t\t92.86 %\n",
      "Epoch 81 of 82 took 210.054s\n",
      "  training loss:\t\t0.180899\n",
      "  validation loss:\t\t0.291880\n",
      "  validation accuracy:\t\t92.81 %\n",
      "Epoch 82 of 82 took 210.062s\n",
      "  training loss:\t\t0.180466\n",
      "  validation loss:\t\t0.289238\n",
      "  validation accuracy:\t\t92.89 %\n"
     ]
    }
   ],
   "source": [
    "### import time\n",
    "\n",
    "num_epochs = 82\n",
    "\n",
    "for epoch in range(num_epochs):\n",
    "            # shuffle training data\n",
    "    train_indices = np.arange(100000)\n",
    "    np.random.shuffle(train_indices)\n",
    "    X_train = X_train[train_indices,:,:,:]\n",
    "    y_train = y_train[train_indices]\n",
    "\n",
    "    # In each epoch, we do a full pass over the training data:\n",
    "    train_err = 0\n",
    "    train_batches = 0\n",
    "    start_time = time.time()\n",
    "    for batch in iterate_minibatches(X_train, y_train, 128, shuffle=True, augment=True):\n",
    "        inputs, targets = batch\n",
    "        train_err += train_fn(inputs, targets)\n",
    "        train_batches += 1\n",
    "\n",
    "    # And a full pass over the validation data:\n",
    "    val_err = 0\n",
    "    val_acc = 0\n",
    "    val_batches = 0\n",
    "    for batch in iterate_minibatches(X_test, y_test, 500, shuffle=False):\n",
    "        inputs, targets = batch\n",
    "        err, acc = val_fn(inputs, targets)\n",
    "        val_err += err\n",
    "        val_acc += acc\n",
    "        val_batches += 1\n",
    "\n",
    "    # Then we print the results for this epoch:\n",
    "    print(\"Epoch {} of {} took {:.3f}s\".format(epoch + 1, num_epochs, time.time() - start_time))\n",
    "    print(\"  training loss:\\t\\t{:.6f}\".format(train_err / train_batches))\n",
    "    print(\"  validation loss:\\t\\t{:.6f}\".format(val_err / val_batches))\n",
    "    print(\"  validation accuracy:\\t\\t{:.2f} %\".format(val_acc / val_batches * 100))\n",
    "\n",
    "    train_loss_array.append(train_err / train_batches)\n",
    "    val_loss_array.append(val_err / val_batches)\n",
    "    val_acc_array.append(val_acc / val_batches * 100)\n",
    "    \n",
    "    # adjust learning rate as in paper\n",
    "    # 32k and 48k iterations should be roughly equivalent to 41 and 61 epochs\n",
    "    if (epoch+1) == 41 or (epoch+1) == 61:\n",
    "        new_lr = sh_lr.get_value() * 0.1\n",
    "        print(\"New LR:\"+str(new_lr))\n",
    "        sh_lr.set_value(lasagne.utils.floatX(new_lr))"
   ]
  },
  {
   "cell_type": "code",
   "execution_count": 25,
   "metadata": {
    "collapsed": false
   },
   "outputs": [
    {
     "name": "stdout",
     "output_type": "stream",
     "text": [
      "Final results:\n",
      "  test loss:\t\t\t0.289238\n",
      "  test accuracy:\t\t92.89 %\n"
     ]
    }
   ],
   "source": [
    "test_err = 0\n",
    "test_acc = 0\n",
    "test_batches = 0\n",
    "for batch in iterate_minibatches(X_test, y_test, 500, shuffle=False):\n",
    "    inputs, targets = batch\n",
    "    err, acc = val_fn(inputs, targets)\n",
    "    test_err += err\n",
    "    test_acc += acc\n",
    "    test_batches += 1\n",
    "print(\"Final results:\")\n",
    "print(\"  test loss:\\t\\t\\t{:.6f}\".format(test_err / test_batches))\n",
    "print(\"  test accuracy:\\t\\t{:.2f} %\".format(\n",
    "    test_acc / test_batches * 100))\n",
    "\n"
   ]
  },
  {
   "cell_type": "code",
   "execution_count": 26,
   "metadata": {
    "collapsed": false
   },
   "outputs": [
    {
     "data": {
      "image/png": "[encoded data removed]",
      "text/plain": [
       "<matplotlib.figure.Figure at 0x7f125e236ac8>"
      ]
     },
     "metadata": {},
     "output_type": "display_data"
    }
   ],
   "source": [
    "n = np.arange(1, num_epochs + 1)\n",
    "plt.figure(figsize=(20,10))\n",
    "plt.plot(n, val_acc_array)\n",
    "plt.title('Test accuracy')\n",
    "plt.savefig('plt_accuracy.png')\n",
    "plt.show()"
   ]
  },
  {
   "cell_type": "code",
   "execution_count": 27,
   "metadata": {
    "collapsed": false
   },
   "outputs": [
    {
     "data": {
      "image/png": "[encoded data removed]",
      "text/plain": [
       "<matplotlib.figure.Figure at 0x7f125c3c3438>"
      ]
     },
     "metadata": {},
     "output_type": "display_data"
    }
   ],
   "source": [
    "plt.figure(figsize=(20,10))\n",
    "plt.plot(n, train_loss_array, color='green', label='train loss')\n",
    "plt.plot(n, val_loss_array, color='blue', label='test loss')\n",
    "plt.legend()\n",
    "plt.savefig('plt_loss.png')\n",
    "plt.show()"
   ]
  },
  {
   "cell_type": "code",
   "execution_count": null,
   "metadata": {
    "collapsed": true
   },
   "outputs": [],
   "source": []
  },
  {
   "cell_type": "markdown",
   "metadata": {},
   "source": [
    "## Заполните форму\n",
    "\n",
    "https://goo.gl/forms/EeadABISlVmdJqgr2 "
   ]
  },
  {
   "cell_type": "code",
   "execution_count": null,
   "metadata": {
    "collapsed": true
   },
   "outputs": [],
   "source": []
  },
  {
   "cell_type": "code",
   "execution_count": null,
   "metadata": {
    "collapsed": true
   },
   "outputs": [],
   "source": []
  },
  {
   "cell_type": "code",
   "execution_count": null,
   "metadata": {
    "collapsed": true
   },
   "outputs": [],
   "source": []
  },
  {
   "cell_type": "code",
   "execution_count": null,
   "metadata": {
    "collapsed": true
   },
   "outputs": [],
   "source": []
  }
 ],
 "metadata": {
  "anaconda-cloud": {},
  "kernelspec": {
   "display_name": "Python 3",
   "language": "python",
   "name": "python3"
  },
  "language_info": {
   "codemirror_mode": {
    "name": "ipython",
    "version": 3
   },
   "file_extension": ".py",
   "mimetype": "text/x-python",
   "name": "python",
   "nbconvert_exporter": "python",
   "pygments_lexer": "ipython3",
   "version": "3.6.0"
  }
 },
 "nbformat": 4,
 "nbformat_minor": 0
}
